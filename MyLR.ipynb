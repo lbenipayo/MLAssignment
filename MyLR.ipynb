{
  "nbformat": 4,
  "nbformat_minor": 0,
  "metadata": {
    "colab": {
      "name": "MyLR.ipynb",
      "provenance": [],
      "collapsed_sections": [],
      "authorship_tag": "ABX9TyO+fn36sSzy5zfOhDshGgqC",
      "include_colab_link": true
    },
    "kernelspec": {
      "name": "python3",
      "display_name": "Python 3"
    },
    "language_info": {
      "name": "python"
    }
  },
  "cells": [
    {
      "cell_type": "markdown",
      "metadata": {
        "id": "view-in-github",
        "colab_type": "text"
      },
      "source": [
        "<a href=\"https://colab.research.google.com/github/lbenipayo/MLAssignment/blob/main/MyLR.ipynb\" target=\"_parent\"><img src=\"https://colab.research.google.com/assets/colab-badge.svg\" alt=\"Open In Colab\"/></a>"
      ]
    },
    {
      "cell_type": "code",
      "metadata": {
        "id": "t6PXiu0A3wEc"
      },
      "source": [
        "#Import required modules\n",
        "import numpy as np\n",
        "\n",
        "#Defining MyLinearRegression class\n",
        "class MyLinearRegression:\n",
        "  def __init__(self, x , y, z):\n",
        "    self.data = x\n",
        "    self.label = y\n",
        "    self.test = z\n",
        "    self.m = 0\n",
        "    self.b = 0\n",
        "    self.n = len(x)\n",
        "      \n",
        "  def fit(self , epochs , lr):\n",
        "      \n",
        "    #Implementing Gradient Descent\n",
        "    for i in range(epochs):\n",
        "      y_pred = self.m * self.data + self.b\n",
        "      \n",
        "      #Calculating derivatives w.r.t Parameters\n",
        "      D_m = (-2/self.n)*sum(self.data * (self.label - y_pred))\n",
        "      D_b = (-1/self.n)*sum(self.label-y_pred)\n",
        "      \n",
        "      #Updating Parameters\n",
        "      self.m = self.m - lr * D_m\n",
        "      self.b = self.b - lr * D_b\n",
        "    \n",
        "    self.plot_results(self.data, self.label, self.test, self.predict(self.test))\n",
        "          \n",
        "  def predict(self , inp):\n",
        "    y_pred = self.m * inp + self.b \n",
        "    return y_pred\n",
        "\n",
        "  def plot_results(self, x_scatter, y_scatter, x_line, y_line):\n",
        "    plt.figure(figsize = (10,6))\n",
        "    plt.scatter(x_scatter, y_scatter , color = 'green')\n",
        "    plt.plot(x_line, y_line , color = 'k' , lw = 3)\n",
        "    plt.title( 'Project Duration', size = 20 )\n",
        "    plt.xlabel('Site Installs' , size = 20)\n",
        "    plt.ylabel('Days', size = 20)\n",
        "    plt.show()\n",
        "\n",
        "  "
      ],
      "execution_count": 75,
      "outputs": []
    },
    {
      "cell_type": "code",
      "metadata": {
        "id": "-UlBSBklUSnU"
      },
      "source": [
        "#importing required modules\n",
        "import matplotlib.pyplot as plt\n",
        "import pandas as pd\n",
        "from sklearn.model_selection import train_test_split\n",
        "from sklearn.linear_model import LinearRegression\n",
        "from sklearn.metrics import mean_squared_error\n",
        "import requests\n",
        "import io\n",
        "\n",
        "#Defining my data loading class\n",
        "class MyDataLoad:\n",
        "  def __init__(self):\n",
        "    \n",
        "    # Downloading the my csv file from your GitHub account\n",
        "    url = \"https://raw.githubusercontent.com/lbenipayo/MLAssignment/main/duration.csv\" \n",
        "    download = requests.get(url).content\n",
        "\n",
        "    # Reading the downloaded content and turning it into a pandas dataframe\n",
        "    self.df = pd.read_csv(io.StringIO(download.decode('utf-8')))\n",
        "\n",
        "    #Preparing the data\n",
        "    self.x = np.array(self.df.iloc[:,0])\n",
        "    self.y = np.array(self.df.iloc[:,1])\n",
        "\n",
        "    # Splitting dataset into train and test set  \n",
        "    self.X_train, self.X_test, self.Y_train, self.Y_test = train_test_split(self.x, self.y, test_size = .2, random_state = 0 )\n",
        "\n",
        "    #Creating the MyLinearRegression class object\n",
        "    regressor = MyLinearRegression(self.X_train, self.Y_train, self.X_test)\n",
        "\n",
        "    #Training the model with .fit method\n",
        "    regressor.fit(1000000 , 0.0001) # epochs-1000000 , learning_rate - 0.0001 which could produce mean squared error very very close to sklearn linear model mean squared error\n",
        "\n",
        "    self.sklearnCompare()\n",
        "    \n",
        "  def sklearnCompare(self):\n",
        "    Xtrain_shape = self.X_train.reshape(-1, 1)\n",
        "    Ytrain_shape = self.Y_train.reshape(-1, 1)\n",
        "    Xtest_shape = self.X_test.reshape(-1, 1)\n",
        "    lr_model = LinearRegression()\n",
        "    lr_model.fit(Xtrain_shape, Ytrain_shape)\n",
        "    lr_pred = lr_model.predict(Xtest_shape)\n",
        "    \n",
        "    print(\"Mean Squared Error based on my own Linear Regression Model is\", mean_squared_error(self.Y_test, regressor.predict(self.X_test)))\n",
        "    print(\"Mean Squared Error based on sklearn Linear Regression Model is\", mean_squared_error(self.Y_test, lr_pred))\n",
        "\n",
        "  def both_predict(self, site_input):\n",
        "    duration_pred = regressor.predict(site_input)\n",
        "    print(\"According to my own Linear Model, it will take\", round(duration_pred), \"days or\", round(duration_pred/30,2), \"months to complete a project with\", site_input, \"sites.\")\n",
        "    sites = [[site_input]]\n",
        "    sklearn_pred = lr_model.predict(sites)\n",
        "    print(\"According to sklearn Linear Model, it will take\", np.round(sklearn_pred), \"days or\", np.round(sklearn_pred/30, decimals=2), \"months to complete a project with\", site_input, \"sites.\")"
      ],
      "execution_count": 113,
      "outputs": []
    },
    {
      "cell_type": "code",
      "metadata": {
        "colab": {
          "base_uri": "https://localhost:8080/",
          "height": 469
        },
        "id": "tJRew1z_ZBSZ",
        "outputId": "172e46b8-93d9-4402-cc09-7806a8488399"
      },
      "source": [
        "output = MyDataLoad()\n",
        "output"
      ],
      "execution_count": 114,
      "outputs": [
        {
          "output_type": "display_data",
          "data": {
            "image/png": "[encoded data removed]",
            "text/plain": [
              "<Figure size 720x432 with 1 Axes>"
            ]
          },
          "metadata": {
            "tags": [],
            "needs_background": "light"
          }
        },
        {
          "output_type": "stream",
          "text": [
            "Mean Squared Error based on my own Linear Regression Model is 7232.769349964058\n",
            "Mean Squared Error based on sklearn Linear Regression Model is 7232.769349963089\n"
          ],
          "name": "stdout"
        },
        {
          "output_type": "execute_result",
          "data": {
            "text/plain": [
              "<__main__.MyDataLoad at 0x7fead8e50cd0>"
            ]
          },
          "metadata": {
            "tags": []
          },
          "execution_count": 114
        }
      ]
    },
    {
      "cell_type": "code",
      "metadata": {
        "colab": {
          "base_uri": "https://localhost:8080/"
        },
        "id": "wZtMVURuZlbQ",
        "outputId": "97cf413b-5f3c-4df0-c8f2-749b29932928"
      },
      "source": [
        "output.both_predict(62)"
      ],
      "execution_count": 116,
      "outputs": [
        {
          "output_type": "stream",
          "text": [
            "According to my own Linear Model, it will take 371 days or 12.36 months to complete a project with 62 sites.\n",
            "According to sklearn Linear Model, it will take [[371.]] days or [[12.36]] months to complete a project with 62 sites.\n"
          ],
          "name": "stdout"
        }
      ]
    }
  ]
}